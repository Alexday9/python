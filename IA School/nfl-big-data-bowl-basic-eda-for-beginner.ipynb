{
 "cells": [
  {
   "cell_type": "markdown",
   "metadata": {},
   "source": [
    "<h1><center>NFL Big Data Bowl Basic EDA for beginner</center></h1>\n",
    "\n",
    "<center><img src=\"https://deadline.com/wp-content/uploads/2021/01/NFL-ball.jpg?crop=0px%2C33px%2C1226px%2C687px&resize=681%2C383\"></center>"
   ]
  },
  {
   "cell_type": "markdown",
   "metadata": {},
   "source": [
    "### This is very simple EDA notebook. I have lots of things to analyze so that I'll keep updating."
   ]
  },
  {
   "cell_type": "markdown",
   "metadata": {},
   "source": [
    "# Upvote is Free 🤗\n",
    "### PLEASE UPVOTE if you like this notebook. It will keep me motivated to update my notebook."
   ]
  },
  {
   "cell_type": "code",
   "execution_count": 1,
   "metadata": {
    "_cell_guid": "b1076dfc-b9ad-4769-8c92-a6c4dae69d19",
    "_kg_hide-input": true,
    "_kg_hide-output": false,
    "_uuid": "8f2839f25d086af736a60e9eeb907d3b93b6e0e5"
   },
   "outputs": [],
   "source": [
    "import numpy as np\n",
    "import pandas as pd\n",
    "import seaborn as sns\n",
    "import matplotlib as mpl\n",
    "import matplotlib.pyplot as plt\n",
    "\n",
    "plt.style.use('fivethirtyeight')"
   ]
  },
  {
   "cell_type": "markdown",
   "metadata": {},
   "source": [
    "<a id=\"1\"></a>\n",
    "<h2 style='background:transparent; color:black'><center>1. Game Data<center><h2>"
   ]
  },
  {
   "cell_type": "markdown",
   "metadata": {},
   "source": [
    "### **Game data:** The games.csv contains the teams playing in each game. The key variable is gameId.\n",
    "\n",
    "* **gameId:** Game identifier, unique (numeric)\n",
    "\n",
    "* **gameDate:** Game Date (time, mm/dd/yyyy)\n",
    "\n",
    "* **gameTimeEastern:** Start time of game (time, HH:MM:SS, EST)\n",
    "\n",
    "* **homeTeamAbbr:** Home team three-letter code (text)\n",
    "\n",
    "* **visitorTeamAbbr:** Visiting team three-letter code (text)\n",
    "\n",
    "* **week:** Week of game (numeric)"
   ]
  },
  {
   "cell_type": "code",
   "execution_count": 2,
   "metadata": {
    "_cell_guid": "79c7e3d0-c299-4dcb-8224-4455121ee9b0",
    "_uuid": "d629ff2d2480ee46fbb7e2d37f6b5fab8052498a"
   },
   "outputs": [
    {
     "data": {
      "text/html": [
       "<div>\n",
       "<style scoped>\n",
       "    .dataframe tbody tr th:only-of-type {\n",
       "        vertical-align: middle;\n",
       "    }\n",
       "\n",
       "    .dataframe tbody tr th {\n",
       "        vertical-align: top;\n",
       "    }\n",
       "\n",
       "    .dataframe thead th {\n",
       "        text-align: right;\n",
       "    }\n",
       "</style>\n",
       "<table border=\"1\" class=\"dataframe\">\n",
       "  <thead>\n",
       "    <tr style=\"text-align: right;\">\n",
       "      <th></th>\n",
       "      <th>gameId</th>\n",
       "      <th>season</th>\n",
       "      <th>week</th>\n",
       "      <th>gameDate</th>\n",
       "      <th>gameTimeEastern</th>\n",
       "      <th>homeTeamAbbr</th>\n",
       "      <th>visitorTeamAbbr</th>\n",
       "    </tr>\n",
       "  </thead>\n",
       "  <tbody>\n",
       "    <tr>\n",
       "      <th>0</th>\n",
       "      <td>2018090600</td>\n",
       "      <td>2018</td>\n",
       "      <td>1</td>\n",
       "      <td>09/06/2018</td>\n",
       "      <td>20:20:00</td>\n",
       "      <td>PHI</td>\n",
       "      <td>ATL</td>\n",
       "    </tr>\n",
       "    <tr>\n",
       "      <th>1</th>\n",
       "      <td>2018090900</td>\n",
       "      <td>2018</td>\n",
       "      <td>1</td>\n",
       "      <td>09/09/2018</td>\n",
       "      <td>13:00:00</td>\n",
       "      <td>BAL</td>\n",
       "      <td>BUF</td>\n",
       "    </tr>\n",
       "    <tr>\n",
       "      <th>2</th>\n",
       "      <td>2018090901</td>\n",
       "      <td>2018</td>\n",
       "      <td>1</td>\n",
       "      <td>09/09/2018</td>\n",
       "      <td>13:00:00</td>\n",
       "      <td>CLE</td>\n",
       "      <td>PIT</td>\n",
       "    </tr>\n",
       "    <tr>\n",
       "      <th>3</th>\n",
       "      <td>2018090902</td>\n",
       "      <td>2018</td>\n",
       "      <td>1</td>\n",
       "      <td>09/09/2018</td>\n",
       "      <td>13:00:00</td>\n",
       "      <td>IND</td>\n",
       "      <td>CIN</td>\n",
       "    </tr>\n",
       "    <tr>\n",
       "      <th>4</th>\n",
       "      <td>2018090903</td>\n",
       "      <td>2018</td>\n",
       "      <td>1</td>\n",
       "      <td>09/09/2018</td>\n",
       "      <td>13:00:00</td>\n",
       "      <td>MIA</td>\n",
       "      <td>TEN</td>\n",
       "    </tr>\n",
       "    <tr>\n",
       "      <th>...</th>\n",
       "      <td>...</td>\n",
       "      <td>...</td>\n",
       "      <td>...</td>\n",
       "      <td>...</td>\n",
       "      <td>...</td>\n",
       "      <td>...</td>\n",
       "      <td>...</td>\n",
       "    </tr>\n",
       "    <tr>\n",
       "      <th>759</th>\n",
       "      <td>2021010311</td>\n",
       "      <td>2020</td>\n",
       "      <td>17</td>\n",
       "      <td>01/03/2021</td>\n",
       "      <td>16:25:00</td>\n",
       "      <td>DEN</td>\n",
       "      <td>LV</td>\n",
       "    </tr>\n",
       "    <tr>\n",
       "      <th>760</th>\n",
       "      <td>2021010312</td>\n",
       "      <td>2020</td>\n",
       "      <td>17</td>\n",
       "      <td>01/03/2021</td>\n",
       "      <td>16:25:00</td>\n",
       "      <td>HOU</td>\n",
       "      <td>TEN</td>\n",
       "    </tr>\n",
       "    <tr>\n",
       "      <th>761</th>\n",
       "      <td>2021010313</td>\n",
       "      <td>2020</td>\n",
       "      <td>17</td>\n",
       "      <td>01/03/2021</td>\n",
       "      <td>16:25:00</td>\n",
       "      <td>IND</td>\n",
       "      <td>JAX</td>\n",
       "    </tr>\n",
       "    <tr>\n",
       "      <th>762</th>\n",
       "      <td>2021010314</td>\n",
       "      <td>2020</td>\n",
       "      <td>17</td>\n",
       "      <td>01/03/2021</td>\n",
       "      <td>16:25:00</td>\n",
       "      <td>LA</td>\n",
       "      <td>ARI</td>\n",
       "    </tr>\n",
       "    <tr>\n",
       "      <th>763</th>\n",
       "      <td>2021010315</td>\n",
       "      <td>2020</td>\n",
       "      <td>17</td>\n",
       "      <td>01/03/2021</td>\n",
       "      <td>16:25:00</td>\n",
       "      <td>SF</td>\n",
       "      <td>SEA</td>\n",
       "    </tr>\n",
       "  </tbody>\n",
       "</table>\n",
       "<p>764 rows × 7 columns</p>\n",
       "</div>"
      ],
      "text/plain": [
       "         gameId  season  week    gameDate gameTimeEastern homeTeamAbbr  \\\n",
       "0    2018090600    2018     1  09/06/2018        20:20:00          PHI   \n",
       "1    2018090900    2018     1  09/09/2018        13:00:00          BAL   \n",
       "2    2018090901    2018     1  09/09/2018        13:00:00          CLE   \n",
       "3    2018090902    2018     1  09/09/2018        13:00:00          IND   \n",
       "4    2018090903    2018     1  09/09/2018        13:00:00          MIA   \n",
       "..          ...     ...   ...         ...             ...          ...   \n",
       "759  2021010311    2020    17  01/03/2021        16:25:00          DEN   \n",
       "760  2021010312    2020    17  01/03/2021        16:25:00          HOU   \n",
       "761  2021010313    2020    17  01/03/2021        16:25:00          IND   \n",
       "762  2021010314    2020    17  01/03/2021        16:25:00           LA   \n",
       "763  2021010315    2020    17  01/03/2021        16:25:00           SF   \n",
       "\n",
       "    visitorTeamAbbr  \n",
       "0               ATL  \n",
       "1               BUF  \n",
       "2               PIT  \n",
       "3               CIN  \n",
       "4               TEN  \n",
       "..              ...  \n",
       "759              LV  \n",
       "760             TEN  \n",
       "761             JAX  \n",
       "762             ARI  \n",
       "763             SEA  \n",
       "\n",
       "[764 rows x 7 columns]"
      ]
     },
     "execution_count": 2,
     "metadata": {},
     "output_type": "execute_result"
    }
   ],
   "source": [
    "games = pd.read_csv('/Users/alexdayma/Downloads/games.csv')\n",
    "games"
   ]
  },
  {
   "cell_type": "markdown",
   "metadata": {},
   "source": [
    "## Function for Downcast"
   ]
  },
  {
   "cell_type": "markdown",
   "metadata": {},
   "source": [
    "Downcast is a great skill to compress data size which helps to save memory."
   ]
  },
  {
   "cell_type": "code",
   "execution_count": 4,
   "metadata": {},
   "outputs": [],
   "source": [
    "def downcast(df, verbose=True):\n",
    "    start_mem = df.memory_usage().sum() / 1024**2\n",
    "    for col in df.columns:\n",
    "        dtype_name = df[col].dtype.name\n",
    "        if dtype_name == 'object':\n",
    "            pass\n",
    "        elif dtype_name == 'bool':\n",
    "            df[col] = df[col].astype('int8')\n",
    "        elif dtype_name.startswith('int') or (df[col].round() == df[col]).all():\n",
    "            df[col] = pd.to_numeric(df[col], downcast='integer')\n",
    "        else:\n",
    "            df[col] = pd.to_numeric(df[col], downcast='float')\n",
    "    end_mem = df.memory_usage().sum() / 1024**2\n",
    "    if verbose:\n",
    "        print('{:.1f}% Compressed'.format(100 * (start_mem - end_mem) / start_mem))\n",
    "    \n",
    "    return df"
   ]
  },
  {
   "cell_type": "code",
   "execution_count": 5,
   "metadata": {},
   "outputs": [
    {
     "name": "stdout",
     "output_type": "stream",
     "text": [
      "30.3% Compressed\n"
     ]
    }
   ],
   "source": [
    "games = downcast(games)"
   ]
  },
  {
   "cell_type": "markdown",
   "metadata": {},
   "source": [
    "## Function for making feature summary "
   ]
  },
  {
   "cell_type": "code",
   "execution_count": 3,
   "metadata": {},
   "outputs": [
    {
     "name": "stdout",
     "output_type": "stream",
     "text": [
      "Shape : (764, 7)\n"
     ]
    },
    {
     "data": {
      "text/html": [
       "<div>\n",
       "<style scoped>\n",
       "    .dataframe tbody tr th:only-of-type {\n",
       "        vertical-align: middle;\n",
       "    }\n",
       "\n",
       "    .dataframe tbody tr th {\n",
       "        vertical-align: top;\n",
       "    }\n",
       "\n",
       "    .dataframe thead th {\n",
       "        text-align: right;\n",
       "    }\n",
       "</style>\n",
       "<table border=\"1\" class=\"dataframe\">\n",
       "  <thead>\n",
       "    <tr style=\"text-align: right;\">\n",
       "      <th></th>\n",
       "      <th>Feature</th>\n",
       "      <th>Data Type</th>\n",
       "      <th>Num of null</th>\n",
       "      <th>Num of unique</th>\n",
       "      <th>First value</th>\n",
       "      <th>Second value</th>\n",
       "      <th>Third value</th>\n",
       "    </tr>\n",
       "  </thead>\n",
       "  <tbody>\n",
       "    <tr>\n",
       "      <th>0</th>\n",
       "      <td>gameId</td>\n",
       "      <td>int64</td>\n",
       "      <td>0</td>\n",
       "      <td>764</td>\n",
       "      <td>2018090600</td>\n",
       "      <td>2018090900</td>\n",
       "      <td>2018090901</td>\n",
       "    </tr>\n",
       "    <tr>\n",
       "      <th>1</th>\n",
       "      <td>season</td>\n",
       "      <td>int64</td>\n",
       "      <td>0</td>\n",
       "      <td>3</td>\n",
       "      <td>2018</td>\n",
       "      <td>2018</td>\n",
       "      <td>2018</td>\n",
       "    </tr>\n",
       "    <tr>\n",
       "      <th>2</th>\n",
       "      <td>week</td>\n",
       "      <td>int64</td>\n",
       "      <td>0</td>\n",
       "      <td>17</td>\n",
       "      <td>1</td>\n",
       "      <td>1</td>\n",
       "      <td>1</td>\n",
       "    </tr>\n",
       "    <tr>\n",
       "      <th>3</th>\n",
       "      <td>gameDate</td>\n",
       "      <td>object</td>\n",
       "      <td>0</td>\n",
       "      <td>151</td>\n",
       "      <td>09/06/2018</td>\n",
       "      <td>09/09/2018</td>\n",
       "      <td>09/09/2018</td>\n",
       "    </tr>\n",
       "    <tr>\n",
       "      <th>4</th>\n",
       "      <td>gameTimeEastern</td>\n",
       "      <td>object</td>\n",
       "      <td>0</td>\n",
       "      <td>16</td>\n",
       "      <td>20:20:00</td>\n",
       "      <td>13:00:00</td>\n",
       "      <td>13:00:00</td>\n",
       "    </tr>\n",
       "    <tr>\n",
       "      <th>5</th>\n",
       "      <td>homeTeamAbbr</td>\n",
       "      <td>object</td>\n",
       "      <td>0</td>\n",
       "      <td>33</td>\n",
       "      <td>PHI</td>\n",
       "      <td>BAL</td>\n",
       "      <td>CLE</td>\n",
       "    </tr>\n",
       "    <tr>\n",
       "      <th>6</th>\n",
       "      <td>visitorTeamAbbr</td>\n",
       "      <td>object</td>\n",
       "      <td>0</td>\n",
       "      <td>33</td>\n",
       "      <td>ATL</td>\n",
       "      <td>BUF</td>\n",
       "      <td>PIT</td>\n",
       "    </tr>\n",
       "  </tbody>\n",
       "</table>\n",
       "</div>"
      ],
      "text/plain": [
       "           Feature Data Type  Num of null  Num of unique First value  \\\n",
       "0           gameId     int64            0            764  2018090600   \n",
       "1           season     int64            0              3        2018   \n",
       "2             week     int64            0             17           1   \n",
       "3         gameDate    object            0            151  09/06/2018   \n",
       "4  gameTimeEastern    object            0             16    20:20:00   \n",
       "5     homeTeamAbbr    object            0             33         PHI   \n",
       "6  visitorTeamAbbr    object            0             33         ATL   \n",
       "\n",
       "  Second value Third value  \n",
       "0   2018090900  2018090901  \n",
       "1         2018        2018  \n",
       "2            1           1  \n",
       "3   09/09/2018  09/09/2018  \n",
       "4     13:00:00    13:00:00  \n",
       "5          BAL         CLE  \n",
       "6          BUF         PIT  "
      ]
     },
     "execution_count": 3,
     "metadata": {},
     "output_type": "execute_result"
    }
   ],
   "source": [
    "def resumetable(df):\n",
    "    print(f'Shape : {df.shape}')\n",
    "    summary = pd.DataFrame(df.dtypes, columns=['Data Type'])\n",
    "    summary = summary.reset_index()\n",
    "    summary = summary.rename(columns={'index': 'Feature'})\n",
    "    summary['Num of null'] = df.isnull().sum().values\n",
    "    summary['Num of unique'] = df.nunique().values\n",
    "    summary['First value'] = df.loc[0].values\n",
    "    summary['Second value'] = df.loc[1].values\n",
    "    summary['Third value'] = df.loc[2].values\n",
    "    return summary\n",
    "\n",
    "resumetable(games)"
   ]
  },
  {
   "cell_type": "markdown",
   "metadata": {},
   "source": [
    "## Function for writing percent at the top of the bar graph"
   ]
  },
  {
   "cell_type": "code",
   "execution_count": null,
   "metadata": {
    "execution": {
     "iopub.execute_input": "2021-10-09T15:34:43.192958Z",
     "iopub.status.busy": "2021-10-09T15:34:43.192637Z",
     "iopub.status.idle": "2021-10-09T15:34:43.200451Z",
     "shell.execute_reply": "2021-10-09T15:34:43.199671Z",
     "shell.execute_reply.started": "2021-10-09T15:34:43.192931Z"
    }
   },
   "outputs": [],
   "source": [
    "def write_percent(ax, total_size):\n",
    "    '''Traverse the figure object and display the ratio at the top of the bar graph.'''\n",
    "    for patch in ax.patches:\n",
    "        height = patch.get_height() # Figure height (number of data)\n",
    "        width = patch.get_width() # Figure width\n",
    "        left_coord = patch.get_x() # The x-axis position on the left edge of the figure\n",
    "        percent = height/total_size*100 # percent\n",
    "        \n",
    "        # Type text in the (x, y) coordinates\n",
    "        ax.text(x=left_coord + width/2.0, # x-axis position\n",
    "                y=height + total_size*0.001, # y-axis position\n",
    "                s=f'{percent:1.1f}%', # Text\n",
    "                ha='center') # in the middle"
   ]
  },
  {
   "cell_type": "markdown",
   "metadata": {},
   "source": [
    "## Make derivative features (month, day, hour)"
   ]
  },
  {
   "cell_type": "code",
   "execution_count": null,
   "metadata": {
    "execution": {
     "iopub.execute_input": "2021-10-09T15:34:43.201636Z",
     "iopub.status.busy": "2021-10-09T15:34:43.201352Z",
     "iopub.status.idle": "2021-10-09T15:34:43.220968Z",
     "shell.execute_reply": "2021-10-09T15:34:43.219935Z",
     "shell.execute_reply.started": "2021-10-09T15:34:43.201594Z"
    }
   },
   "outputs": [],
   "source": [
    "games['month'] = games['gameDate'].apply(lambda x: int(x.split('/')[0]))\n",
    "games['day'] = games['gameDate'].apply(lambda x: int(x.split('/')[1]))\n",
    "games['hour'] = games['gameTimeEastern'].apply(lambda x: int(x.split(':')[0]))"
   ]
  },
  {
   "cell_type": "markdown",
   "metadata": {},
   "source": [
    "## Data Visualization"
   ]
  },
  {
   "cell_type": "code",
   "execution_count": null,
   "metadata": {
    "execution": {
     "iopub.execute_input": "2021-10-09T15:34:43.223424Z",
     "iopub.status.busy": "2021-10-09T15:34:43.222927Z",
     "iopub.status.idle": "2021-10-09T15:34:43.396207Z",
     "shell.execute_reply": "2021-10-09T15:34:43.395398Z",
     "shell.execute_reply.started": "2021-10-09T15:34:43.223375Z"
    }
   },
   "outputs": [],
   "source": [
    "mpl.rc('font', size=15) # Set font size\n",
    "plt.figure(figsize=(7, 6)) # Set figure size\n",
    "\n",
    "ax = sns.countplot(x='season', data=games)\n",
    "write_percent(ax, len(games)) \n",
    "ax.set_title('Number of games for season');"
   ]
  },
  {
   "cell_type": "markdown",
   "metadata": {},
   "source": [
    "#### As the years go by, the number of games increases"
   ]
  },
  {
   "cell_type": "code",
   "execution_count": null,
   "metadata": {
    "execution": {
     "iopub.execute_input": "2021-10-09T15:34:43.398435Z",
     "iopub.status.busy": "2021-10-09T15:34:43.397761Z",
     "iopub.status.idle": "2021-10-09T15:34:43.538473Z",
     "shell.execute_reply": "2021-10-09T15:34:43.537756Z",
     "shell.execute_reply.started": "2021-10-09T15:34:43.39839Z"
    }
   },
   "outputs": [],
   "source": [
    "mpl.rc('font', size=15)\n",
    "plt.figure(figsize=(8, 6))\n",
    "\n",
    "ax = sns.countplot(x='month', data=games)\n",
    "write_percent(ax, len(games))\n",
    "ax.set_title('Number of games for month');"
   ]
  },
  {
   "cell_type": "markdown",
   "metadata": {},
   "source": [
    "#### The game was held from September to January. There are especially many games in December, and they are rarely held in January"
   ]
  },
  {
   "cell_type": "code",
   "execution_count": null,
   "metadata": {
    "execution": {
     "iopub.execute_input": "2021-10-09T15:34:43.540212Z",
     "iopub.status.busy": "2021-10-09T15:34:43.539753Z",
     "iopub.status.idle": "2021-10-09T15:34:43.93598Z",
     "shell.execute_reply": "2021-10-09T15:34:43.935225Z",
     "shell.execute_reply.started": "2021-10-09T15:34:43.540181Z"
    }
   },
   "outputs": [],
   "source": [
    "mpl.rc('font', size=12) \n",
    "plt.figure(figsize=(15, 7))\n",
    "\n",
    "ax = sns.countplot(x='day', data=games)\n",
    "write_percent(ax, len(games))\n",
    "ax.set_title('Number of games for day');"
   ]
  },
  {
   "cell_type": "code",
   "execution_count": null,
   "metadata": {
    "execution": {
     "iopub.execute_input": "2021-10-09T15:34:43.937659Z",
     "iopub.status.busy": "2021-10-09T15:34:43.937339Z",
     "iopub.status.idle": "2021-10-09T15:34:44.202099Z",
     "shell.execute_reply": "2021-10-09T15:34:44.200971Z",
     "shell.execute_reply.started": "2021-10-09T15:34:43.937604Z"
    }
   },
   "outputs": [],
   "source": [
    "mpl.rc('font', size=12) \n",
    "plt.figure(figsize=(15, 7))\n",
    "\n",
    "ax = sns.countplot(x='gameTimeEastern', data=games)\n",
    "write_percent(ax, len(games))\n",
    "ax.set_title('Number of games for gameTimeEastern');\n",
    "ax.tick_params('x', labelrotation=30) # rotate 30 degree of x label"
   ]
  },
  {
   "cell_type": "code",
   "execution_count": null,
   "metadata": {
    "execution": {
     "iopub.execute_input": "2021-10-09T15:34:44.203758Z",
     "iopub.status.busy": "2021-10-09T15:34:44.20344Z",
     "iopub.status.idle": "2021-10-09T15:34:44.516527Z",
     "shell.execute_reply": "2021-10-09T15:34:44.515542Z",
     "shell.execute_reply.started": "2021-10-09T15:34:44.203728Z"
    }
   },
   "outputs": [],
   "source": [
    "mpl.rc('font', size=12) \n",
    "plt.figure(figsize=(15, 7))\n",
    "\n",
    "ax = sns.countplot(x='hour', data=games)\n",
    "write_percent(ax, len(games))\n",
    "ax.set_title('Number of games for hour');"
   ]
  },
  {
   "cell_type": "markdown",
   "metadata": {},
   "source": [
    "#### The most games were held at 1, 4, and 8"
   ]
  },
  {
   "cell_type": "code",
   "execution_count": null,
   "metadata": {
    "execution": {
     "iopub.execute_input": "2021-10-09T15:34:44.518535Z",
     "iopub.status.busy": "2021-10-09T15:34:44.517981Z",
     "iopub.status.idle": "2021-10-09T15:34:44.801789Z",
     "shell.execute_reply": "2021-10-09T15:34:44.801013Z",
     "shell.execute_reply.started": "2021-10-09T15:34:44.518493Z"
    }
   },
   "outputs": [],
   "source": [
    "mpl.rc('font', size=12) \n",
    "plt.figure(figsize=(15, 7))\n",
    "\n",
    "ax = sns.countplot(x='week', data=games)\n",
    "write_percent(ax, len(games))\n",
    "ax.set_title('Number of games for week');"
   ]
  },
  {
   "cell_type": "markdown",
   "metadata": {},
   "source": [
    "<a id=\"2\"></a>\n",
    "<h2 style='background:transparent; border:0; color:black'><center>2. Player Data<center><h2>"
   ]
  },
  {
   "cell_type": "markdown",
   "metadata": {},
   "source": [
    "### **Player data:** The players.csv file contains player-level information from players that participated in any of the tracking data files. The key variable is nflId\n",
    "\n",
    "* **nflId:** Player identification number, unique across players (numeric)\n",
    "\n",
    "* **height:** Player height (text)\n",
    "\n",
    "* **weight:** Player weight (numeric)\n",
    "\n",
    "* **birthDate:** Date of birth (YYYY-MM-DD)\n",
    "\n",
    "* **collegeName:** Player college (text)\n",
    "\n",
    "* **position:** Player position (text)\n",
    "\n",
    "* **displayName:** Player name (text)"
   ]
  },
  {
   "cell_type": "code",
   "execution_count": null,
   "metadata": {
    "execution": {
     "iopub.execute_input": "2021-10-09T15:34:44.803136Z",
     "iopub.status.busy": "2021-10-09T15:34:44.802778Z",
     "iopub.status.idle": "2021-10-09T15:34:44.85654Z",
     "shell.execute_reply": "2021-10-09T15:34:44.855808Z",
     "shell.execute_reply.started": "2021-10-09T15:34:44.803109Z"
    }
   },
   "outputs": [],
   "source": [
    "players = pd.read_csv('../input/nfl-big-data-bowl-2022/players.csv')\n",
    "players"
   ]
  },
  {
   "cell_type": "code",
   "execution_count": null,
   "metadata": {
    "execution": {
     "iopub.execute_input": "2021-10-09T15:34:44.857991Z",
     "iopub.status.busy": "2021-10-09T15:34:44.857567Z",
     "iopub.status.idle": "2021-10-09T15:34:44.866631Z",
     "shell.execute_reply": "2021-10-09T15:34:44.865934Z",
     "shell.execute_reply.started": "2021-10-09T15:34:44.85796Z"
    }
   },
   "outputs": [],
   "source": [
    "players = downcast(players)"
   ]
  },
  {
   "cell_type": "code",
   "execution_count": null,
   "metadata": {
    "execution": {
     "iopub.execute_input": "2021-10-09T15:34:44.868026Z",
     "iopub.status.busy": "2021-10-09T15:34:44.867592Z",
     "iopub.status.idle": "2021-10-09T15:34:44.897667Z",
     "shell.execute_reply": "2021-10-09T15:34:44.896706Z",
     "shell.execute_reply.started": "2021-10-09T15:34:44.867997Z"
    }
   },
   "outputs": [],
   "source": [
    "resumetable(players)"
   ]
  },
  {
   "cell_type": "markdown",
   "metadata": {},
   "source": [
    "### Convert all heights to feet"
   ]
  },
  {
   "cell_type": "code",
   "execution_count": null,
   "metadata": {
    "execution": {
     "iopub.execute_input": "2021-10-09T15:34:44.899757Z",
     "iopub.status.busy": "2021-10-09T15:34:44.899169Z",
     "iopub.status.idle": "2021-10-09T15:34:44.940877Z",
     "shell.execute_reply": "2021-10-09T15:34:44.939825Z",
     "shell.execute_reply.started": "2021-10-09T15:34:44.899711Z"
    }
   },
   "outputs": [],
   "source": [
    "check = players['height'].str.split('-', expand=True)\n",
    "\n",
    "check.columns = ['first', 'second']\n",
    "\n",
    "check.loc[(check['second'].notnull()), 'first'] = check[check['second'].notnull()]['first'].astype(np.int16) * 12 + check[check['second'].notnull()]['second'].astype(np.int16)"
   ]
  },
  {
   "cell_type": "code",
   "execution_count": null,
   "metadata": {
    "execution": {
     "iopub.execute_input": "2021-10-09T15:34:44.942477Z",
     "iopub.status.busy": "2021-10-09T15:34:44.942172Z",
     "iopub.status.idle": "2021-10-09T15:34:44.963759Z",
     "shell.execute_reply": "2021-10-09T15:34:44.962989Z",
     "shell.execute_reply.started": "2021-10-09T15:34:44.942448Z"
    }
   },
   "outputs": [],
   "source": [
    "players['height'] = check['first']\n",
    "players['height'] = players['height'].astype(np.float32)\n",
    "players['height'] /= 12\n",
    "\n",
    "players"
   ]
  },
  {
   "cell_type": "code",
   "execution_count": null,
   "metadata": {
    "execution": {
     "iopub.execute_input": "2021-10-09T15:34:44.965409Z",
     "iopub.status.busy": "2021-10-09T15:34:44.964809Z",
     "iopub.status.idle": "2021-10-09T15:34:45.157097Z",
     "shell.execute_reply": "2021-10-09T15:34:45.156192Z",
     "shell.execute_reply.started": "2021-10-09T15:34:44.965377Z"
    }
   },
   "outputs": [],
   "source": [
    "mpl.rc('font', size=15) \n",
    "plt.figure(figsize=(10, 6))\n",
    "\n",
    "ax = sns.distplot(players['height'], bins=12)\n",
    "ax.set_title('Height Distribution');"
   ]
  },
  {
   "cell_type": "code",
   "execution_count": null,
   "metadata": {
    "execution": {
     "iopub.execute_input": "2021-10-09T15:34:45.15867Z",
     "iopub.status.busy": "2021-10-09T15:34:45.158215Z",
     "iopub.status.idle": "2021-10-09T15:34:45.35636Z",
     "shell.execute_reply": "2021-10-09T15:34:45.355453Z",
     "shell.execute_reply.started": "2021-10-09T15:34:45.158609Z"
    }
   },
   "outputs": [],
   "source": [
    "mpl.rc('font', size=15) \n",
    "plt.figure(figsize=(10, 6))\n",
    "\n",
    "ax = sns.distplot(players['weight'])\n",
    "ax.set_title('Weight Distribution');"
   ]
  },
  {
   "cell_type": "code",
   "execution_count": null,
   "metadata": {
    "execution": {
     "iopub.execute_input": "2021-10-09T15:34:45.3582Z",
     "iopub.status.busy": "2021-10-09T15:34:45.357919Z",
     "iopub.status.idle": "2021-10-09T15:34:45.366646Z",
     "shell.execute_reply": "2021-10-09T15:34:45.365855Z",
     "shell.execute_reply.started": "2021-10-09T15:34:45.358172Z"
    }
   },
   "outputs": [],
   "source": [
    "top_players_colleage = players['collegeName'].value_counts()[:20].reset_index()\n",
    "top_players_colleage.columns = ['collageName', 'numberOfPlayers']"
   ]
  },
  {
   "cell_type": "code",
   "execution_count": null,
   "metadata": {
    "execution": {
     "iopub.execute_input": "2021-10-09T15:34:45.368018Z",
     "iopub.status.busy": "2021-10-09T15:34:45.36765Z",
     "iopub.status.idle": "2021-10-09T15:34:45.682952Z",
     "shell.execute_reply": "2021-10-09T15:34:45.682143Z",
     "shell.execute_reply.started": "2021-10-09T15:34:45.367991Z"
    }
   },
   "outputs": [],
   "source": [
    "mpl.rc('font', size=10) \n",
    "plt.figure(figsize=(15, 12))\n",
    "\n",
    "ax = sns.barplot(x='numberOfPlayers', y='collageName', data=top_players_colleage)\n",
    "ax.set_title('Number of players for collegeName');"
   ]
  },
  {
   "cell_type": "markdown",
   "metadata": {},
   "source": [
    "### Create birth year feature"
   ]
  },
  {
   "cell_type": "code",
   "execution_count": null,
   "metadata": {
    "execution": {
     "iopub.execute_input": "2021-10-09T15:34:45.684405Z",
     "iopub.status.busy": "2021-10-09T15:34:45.683998Z",
     "iopub.status.idle": "2021-10-09T15:34:45.689149Z",
     "shell.execute_reply": "2021-10-09T15:34:45.688183Z",
     "shell.execute_reply.started": "2021-10-09T15:34:45.684377Z"
    }
   },
   "outputs": [],
   "source": [
    "players['birthYear'] = 0"
   ]
  },
  {
   "cell_type": "markdown",
   "metadata": {},
   "source": [
    "There are NA values in birthDate so that we should drop them"
   ]
  },
  {
   "cell_type": "code",
   "execution_count": null,
   "metadata": {
    "execution": {
     "iopub.execute_input": "2021-10-09T15:34:45.690885Z",
     "iopub.status.busy": "2021-10-09T15:34:45.69055Z",
     "iopub.status.idle": "2021-10-09T15:34:45.706399Z",
     "shell.execute_reply": "2021-10-09T15:34:45.705495Z",
     "shell.execute_reply.started": "2021-10-09T15:34:45.690856Z"
    }
   },
   "outputs": [],
   "source": [
    "players.dropna(subset=['birthDate'], inplace=True)"
   ]
  },
  {
   "cell_type": "markdown",
   "metadata": {},
   "source": [
    "Extract birth year"
   ]
  },
  {
   "cell_type": "code",
   "execution_count": null,
   "metadata": {
    "execution": {
     "iopub.execute_input": "2021-10-09T15:34:45.708013Z",
     "iopub.status.busy": "2021-10-09T15:34:45.70773Z",
     "iopub.status.idle": "2021-10-09T15:34:46.817561Z",
     "shell.execute_reply": "2021-10-09T15:34:46.816422Z",
     "shell.execute_reply.started": "2021-10-09T15:34:45.707986Z"
    }
   },
   "outputs": [],
   "source": [
    "for idx, row in players.iterrows():\n",
    "    if len(row['birthDate'].split('/')) == 3: # ex) 05/17/1994 \n",
    "        players.loc[idx, 'birthYear'] = row['birthDate'].split('/')[2]\n",
    "        \n",
    "    elif len(row['birthDate'].split('-')) == 3: # ex) 1995-05-05\n",
    "        players.loc[idx, 'birthYear'] = row['birthDate'].split('-')[0]"
   ]
  },
  {
   "cell_type": "code",
   "execution_count": null,
   "metadata": {
    "execution": {
     "iopub.execute_input": "2021-10-09T15:34:46.819229Z",
     "iopub.status.busy": "2021-10-09T15:34:46.818913Z",
     "iopub.status.idle": "2021-10-09T15:34:47.035982Z",
     "shell.execute_reply": "2021-10-09T15:34:47.035128Z",
     "shell.execute_reply.started": "2021-10-09T15:34:46.819201Z"
    }
   },
   "outputs": [],
   "source": [
    "mpl.rc('font', size=15) \n",
    "plt.figure(figsize=(10, 5))\n",
    "\n",
    "ax = sns.distplot(players['birthYear'], bins=25)\n",
    "ax.set_title('Players birth year Distribution');"
   ]
  },
  {
   "cell_type": "markdown",
   "metadata": {},
   "source": [
    "#### Those born in 1995 are the most common"
   ]
  },
  {
   "cell_type": "code",
   "execution_count": null,
   "metadata": {
    "execution": {
     "iopub.execute_input": "2021-10-09T15:34:47.037798Z",
     "iopub.status.busy": "2021-10-09T15:34:47.03748Z",
     "iopub.status.idle": "2021-10-09T15:34:47.045507Z",
     "shell.execute_reply": "2021-10-09T15:34:47.044837Z",
     "shell.execute_reply.started": "2021-10-09T15:34:47.037766Z"
    }
   },
   "outputs": [],
   "source": [
    "players['birthYear'].min(), players['birthYear'].max()"
   ]
  },
  {
   "cell_type": "markdown",
   "metadata": {},
   "source": [
    "#### The oldest player was born in 1972, and the youngest player was born in 1999"
   ]
  },
  {
   "cell_type": "markdown",
   "metadata": {},
   "source": [
    "<a id=\"3\"></a>\n",
    "<h2 style='background:transparent; border:0; color:black'><center>3. Play Data<center><h2>"
   ]
  },
  {
   "cell_type": "markdown",
   "metadata": {},
   "source": [
    "### **Play data:** The plays.csv file contains play-level information from each game. The key variables are gameId and playId\n",
    "- gameId: Game identifier, unique (numeric)\n",
    "- playId: Play identifier, not unique across games (numeric)\n",
    "- playDescription: Description of play (text)\n",
    "- quarter: Game quarter (numeric)\n",
    "- down: Down (numeric)\n",
    "- yardsToGo: Distance needed for a first down (numeric)\n",
    "- possessionTeam: Team punting, placekicking or kicking off the ball (text)\n",
    "- specialTeamsPlayType: Formation of play: Extra Point, Field Goal, Kickoff or Punt (text)\n",
    "- specialTeamsPlayResult: Special Teams outcome of play dependent on play type: Blocked Kick Attempt, Blocked Punt, Downed, Fair Catch, Kick Attempt Good, Kick Attempt No Good, Kickoff Team Recovery, Muffed, Non-Special Teams Result, Out of Bounds, Return or Touchback (text)\n",
    "- kickerId: nflId of placekicker, punter or kickoff specialist on play (numeric)\n",
    "- returnerId: nflId(s) of returner(s) on play if there was a special teams return. Multiple returners on a play are separated by a ; (text)\n",
    "- kickBlockerId: nflId of blocker of kick on play if there was a blocked field goal or blocked punt (numeric)\n",
    "- yardlineSide: 3-letter team code corresponding to line-of-scrimmage (text)\n",
    "- yardlineNumber: Yard line at line-of-scrimmage (numeric) \n",
    "- gameClock: Time on clock of play (MM:SS)\n",
    "- penaltyCodes: NFL categorization of the penalties that occurred on the play. Multiple penalties on a play are separated by a ; (text)\n",
    "- penaltyJerseyNumber: Jersey number and team code of the player committing each penalty. Multiple penalties on a play are separated by a ; (text)\n",
    "- penaltyYards: yards gained by possessionTeam by penalty (numeric)\n",
    "- preSnapHomeScore: Home score prior to the play (numeric)\n",
    "- preSnapVisitorScore: Visiting team score prior to the play (numeric)\n",
    "- passResult: Scrimmage outcome of the play if specialTeamsPlayResult is \"Non-Special Teams Result\" (C: Complete pass, I: Incomplete pass, S: Quarterback sack, IN: Intercepted pass, R: Scramble, ' ': Designed Rush, text)\n",
    "- kickLength: Kick length in air of kickoff, field goal or punt (numeric)\n",
    "- kickReturnYardage: Yards gained by return team if there was a return on a kickoff or punt (numeric)\n",
    "- playResult: Net yards gained by the kicking team, including penalty yardage (numeric)\n",
    "- absoluteYardlineNumber: Location of ball downfield in tracking data coordinates (numeric)"
   ]
  },
  {
   "cell_type": "code",
   "execution_count": null,
   "metadata": {
    "execution": {
     "iopub.execute_input": "2021-10-09T15:34:47.047079Z",
     "iopub.status.busy": "2021-10-09T15:34:47.046645Z",
     "iopub.status.idle": "2021-10-09T15:34:47.278001Z",
     "shell.execute_reply": "2021-10-09T15:34:47.277106Z",
     "shell.execute_reply.started": "2021-10-09T15:34:47.04705Z"
    }
   },
   "outputs": [],
   "source": [
    "plays = pd.read_csv('../input/nfl-big-data-bowl-2022/plays.csv')\n",
    "\n",
    "plays"
   ]
  },
  {
   "cell_type": "code",
   "execution_count": null,
   "metadata": {
    "execution": {
     "iopub.execute_input": "2021-10-09T15:34:47.27957Z",
     "iopub.status.busy": "2021-10-09T15:34:47.279274Z",
     "iopub.status.idle": "2021-10-09T15:34:47.308171Z",
     "shell.execute_reply": "2021-10-09T15:34:47.307128Z",
     "shell.execute_reply.started": "2021-10-09T15:34:47.279541Z"
    }
   },
   "outputs": [],
   "source": [
    "plays = downcast(plays)"
   ]
  },
  {
   "cell_type": "code",
   "execution_count": null,
   "metadata": {
    "execution": {
     "iopub.execute_input": "2021-10-09T15:34:47.310048Z",
     "iopub.status.busy": "2021-10-09T15:34:47.309567Z",
     "iopub.status.idle": "2021-10-09T15:34:47.391489Z",
     "shell.execute_reply": "2021-10-09T15:34:47.390413Z",
     "shell.execute_reply.started": "2021-10-09T15:34:47.310016Z"
    }
   },
   "outputs": [],
   "source": [
    "resumetable(plays)"
   ]
  },
  {
   "cell_type": "markdown",
   "metadata": {},
   "source": [
    "#### There are lots of null values in `returnerld`, `kickBlockerId`, `penaltyCodes`, `penaltyJerseyNumbers`, `penaltyYards`, `passResult`, `kickReturnYardage` features"
   ]
  },
  {
   "cell_type": "code",
   "execution_count": null,
   "metadata": {
    "execution": {
     "iopub.execute_input": "2021-10-09T15:34:47.394Z",
     "iopub.status.busy": "2021-10-09T15:34:47.393557Z",
     "iopub.status.idle": "2021-10-09T15:34:47.545958Z",
     "shell.execute_reply": "2021-10-09T15:34:47.544752Z",
     "shell.execute_reply.started": "2021-10-09T15:34:47.393956Z"
    }
   },
   "outputs": [],
   "source": [
    "mpl.rc('font', size=12) \n",
    "plt.figure(figsize=(12, 6))\n",
    "\n",
    "ax = sns.countplot(x='quarter', data=plays)\n",
    "write_percent(ax, len(plays))\n",
    "ax.set_title('Number of plays of every quarter');"
   ]
  },
  {
   "cell_type": "code",
   "execution_count": null,
   "metadata": {
    "execution": {
     "iopub.execute_input": "2021-10-09T15:34:47.551065Z",
     "iopub.status.busy": "2021-10-09T15:34:47.550748Z",
     "iopub.status.idle": "2021-10-09T15:34:47.711645Z",
     "shell.execute_reply": "2021-10-09T15:34:47.710775Z",
     "shell.execute_reply.started": "2021-10-09T15:34:47.551034Z"
    }
   },
   "outputs": [],
   "source": [
    "mpl.rc('font', size=12) \n",
    "plt.figure(figsize=(12, 6))\n",
    "\n",
    "ax = sns.countplot(x='down', data=plays)\n",
    "write_percent(ax, len(plays))\n",
    "ax.set_title('Number of plays of every down');"
   ]
  },
  {
   "cell_type": "code",
   "execution_count": null,
   "metadata": {
    "execution": {
     "iopub.execute_input": "2021-10-09T15:34:47.714143Z",
     "iopub.status.busy": "2021-10-09T15:34:47.713836Z",
     "iopub.status.idle": "2021-10-09T15:34:48.047937Z",
     "shell.execute_reply": "2021-10-09T15:34:48.046875Z",
     "shell.execute_reply.started": "2021-10-09T15:34:47.714113Z"
    }
   },
   "outputs": [],
   "source": [
    "mpl.rc('font', size=12) \n",
    "plt.figure(figsize=(12, 6))\n",
    "\n",
    "ax = sns.countplot(x='yardsToGo', data=plays)\n",
    "ax.set_title('Number of plays for every yards to go category');"
   ]
  },
  {
   "cell_type": "code",
   "execution_count": null,
   "metadata": {
    "execution": {
     "iopub.execute_input": "2021-10-09T15:34:48.049941Z",
     "iopub.status.busy": "2021-10-09T15:34:48.049525Z",
     "iopub.status.idle": "2021-10-09T15:34:48.264737Z",
     "shell.execute_reply": "2021-10-09T15:34:48.263872Z",
     "shell.execute_reply.started": "2021-10-09T15:34:48.049908Z"
    }
   },
   "outputs": [],
   "source": [
    "mpl.rc('font', size=15) \n",
    "plt.figure(figsize=(10, 5))\n",
    "\n",
    "ax = sns.distplot(plays['playResult'], bins=25);\n",
    "ax.set_title('playResult Distribution'); "
   ]
  },
  {
   "cell_type": "markdown",
   "metadata": {},
   "source": [
    "playResult: Net yards gained by the offense, including penalty yardage (numeric)"
   ]
  },
  {
   "cell_type": "code",
   "execution_count": null,
   "metadata": {
    "execution": {
     "iopub.execute_input": "2021-10-09T15:34:48.266281Z",
     "iopub.status.busy": "2021-10-09T15:34:48.265987Z",
     "iopub.status.idle": "2021-10-09T15:34:48.557649Z",
     "shell.execute_reply": "2021-10-09T15:34:48.556755Z",
     "shell.execute_reply.started": "2021-10-09T15:34:48.266252Z"
    }
   },
   "outputs": [],
   "source": [
    "mpl.rc('font', size=15) \n",
    "plt.figure(figsize=(10, 5))\n",
    "\n",
    "ax = sns.distplot(plays['preSnapHomeScore'], bins=12);\n",
    "ax.set_title('preSnapHomeScore Distribution'); "
   ]
  },
  {
   "cell_type": "markdown",
   "metadata": {},
   "source": [
    "preSnapHomeScore: Home score prior to the play (numeric)"
   ]
  },
  {
   "cell_type": "code",
   "execution_count": null,
   "metadata": {
    "execution": {
     "iopub.execute_input": "2021-10-09T15:34:48.559687Z",
     "iopub.status.busy": "2021-10-09T15:34:48.559262Z",
     "iopub.status.idle": "2021-10-09T15:34:48.750836Z",
     "shell.execute_reply": "2021-10-09T15:34:48.749769Z",
     "shell.execute_reply.started": "2021-10-09T15:34:48.55964Z"
    }
   },
   "outputs": [],
   "source": [
    "mpl.rc('font', size=15) \n",
    "plt.figure(figsize=(10, 5))\n",
    "\n",
    "ax = sns.distplot(plays['preSnapVisitorScore'], bins=12);\n",
    "ax.set_title('preSnapVisitorScore Distribution'); "
   ]
  },
  {
   "cell_type": "markdown",
   "metadata": {},
   "source": [
    "preSnapVisitorScore: Visiting team score prior to the play (numeric)"
   ]
  },
  {
   "cell_type": "markdown",
   "metadata": {},
   "source": [
    "<a id=\"3\"></a>\n",
    "<h2 style='background:transparent; border:0; color:black'><center>4. Tracking Data<center><h2>"
   ]
  },
  {
   "cell_type": "code",
   "execution_count": null,
   "metadata": {
    "execution": {
     "iopub.execute_input": "2021-10-09T15:34:48.752857Z",
     "iopub.status.busy": "2021-10-09T15:34:48.75236Z",
     "iopub.status.idle": "2021-10-09T15:35:39.143584Z",
     "shell.execute_reply": "2021-10-09T15:35:39.142734Z",
     "shell.execute_reply.started": "2021-10-09T15:34:48.75281Z"
    }
   },
   "outputs": [],
   "source": [
    "tracking2018 = pd.read_csv('../input/nfl-big-data-bowl-2022/tracking2018.csv')\n",
    "tracking2018.head()"
   ]
  },
  {
   "cell_type": "code",
   "execution_count": null,
   "metadata": {
    "execution": {
     "iopub.execute_input": "2021-10-09T15:35:39.145019Z",
     "iopub.status.busy": "2021-10-09T15:35:39.144752Z",
     "iopub.status.idle": "2021-10-09T15:35:42.838748Z",
     "shell.execute_reply": "2021-10-09T15:35:42.83744Z",
     "shell.execute_reply.started": "2021-10-09T15:35:39.144993Z"
    }
   },
   "outputs": [],
   "source": [
    "tracking2018 = downcast(tracking2018)"
   ]
  },
  {
   "cell_type": "markdown",
   "metadata": {},
   "source": [
    "This function is taken from the post created by ROB MULLA. See the post [here](https://www.kaggle.com/robikscube/nfl-big-data-bowl-2022-twitch-stream-eda). Thank you ROB MULLA :)"
   ]
  },
  {
   "cell_type": "markdown",
   "metadata": {},
   "source": [
    "#### 2018123000 and playId == 36"
   ]
  },
  {
   "cell_type": "code",
   "execution_count": null,
   "metadata": {
    "execution": {
     "iopub.execute_input": "2021-10-09T15:35:42.840802Z",
     "iopub.status.busy": "2021-10-09T15:35:42.840343Z",
     "iopub.status.idle": "2021-10-09T15:35:43.573856Z",
     "shell.execute_reply": "2021-10-09T15:35:43.5726Z",
     "shell.execute_reply.started": "2021-10-09T15:35:42.840756Z"
    }
   },
   "outputs": [],
   "source": [
    "fig, ax = plt.subplots(figsize=(12, 8))\n",
    "tracking2018.query('gameId == 2018123000 and playId == 36').groupby('team') \\\n",
    "    .plot(x='x', y='y', ax=ax, style='.')\n",
    "plt.legend().remove();"
   ]
  },
  {
   "cell_type": "markdown",
   "metadata": {},
   "source": [
    "#### gameId == 2018091001 and playId == 4033"
   ]
  },
  {
   "cell_type": "code",
   "execution_count": null,
   "metadata": {
    "execution": {
     "iopub.execute_input": "2021-10-09T15:35:43.575765Z",
     "iopub.status.busy": "2021-10-09T15:35:43.57535Z",
     "iopub.status.idle": "2021-10-09T15:35:43.881473Z",
     "shell.execute_reply": "2021-10-09T15:35:43.880208Z",
     "shell.execute_reply.started": "2021-10-09T15:35:43.575732Z"
    }
   },
   "outputs": [],
   "source": [
    "fig, ax = plt.subplots(figsize=(12, 8))\n",
    "tracking2018.query('gameId == 2018091001 and playId == 4033').groupby('team') \\\n",
    "    .plot(x='x', y='y', ax=ax, style='.')\n",
    "plt.legend().remove();"
   ]
  },
  {
   "cell_type": "markdown",
   "metadata": {},
   "source": [
    "#### gameId == 2018091609 and position == \"CB\""
   ]
  },
  {
   "cell_type": "code",
   "execution_count": null,
   "metadata": {
    "execution": {
     "iopub.execute_input": "2021-10-09T15:35:43.883266Z",
     "iopub.status.busy": "2021-10-09T15:35:43.882955Z",
     "iopub.status.idle": "2021-10-09T15:35:44.620417Z",
     "shell.execute_reply": "2021-10-09T15:35:44.619375Z",
     "shell.execute_reply.started": "2021-10-09T15:35:43.883235Z"
    }
   },
   "outputs": [],
   "source": [
    "fig, ax = plt.subplots(figsize=(12, 8))\n",
    "tracking2018.query('gameId == 2018091609 and position == \"CB\"').groupby('team') \\\n",
    "    .plot(x='x', y='y', ax=ax, style='.')\n",
    "plt.legend().remove();"
   ]
  },
  {
   "cell_type": "markdown",
   "metadata": {},
   "source": [
    "#### gameId == 2018091609 and position == \"LB\""
   ]
  },
  {
   "cell_type": "code",
   "execution_count": null,
   "metadata": {
    "execution": {
     "iopub.execute_input": "2021-10-09T15:35:44.622195Z",
     "iopub.status.busy": "2021-10-09T15:35:44.621897Z",
     "iopub.status.idle": "2021-10-09T15:35:45.322422Z",
     "shell.execute_reply": "2021-10-09T15:35:45.321295Z",
     "shell.execute_reply.started": "2021-10-09T15:35:44.622165Z"
    }
   },
   "outputs": [],
   "source": [
    "fig, ax = plt.subplots(figsize=(12, 8))\n",
    "tracking2018.query('gameId == 2018091609 and position == \"LB\"').groupby('team') \\\n",
    "    .plot(x='x', y='y', ax=ax, style='.')\n",
    "plt.legend().remove();"
   ]
  },
  {
   "cell_type": "markdown",
   "metadata": {},
   "source": [
    "#### gameId == 2018091609 and position == \"RB\""
   ]
  },
  {
   "cell_type": "code",
   "execution_count": null,
   "metadata": {
    "execution": {
     "iopub.execute_input": "2021-10-09T15:35:45.323941Z",
     "iopub.status.busy": "2021-10-09T15:35:45.323653Z",
     "iopub.status.idle": "2021-10-09T15:35:46.017585Z",
     "shell.execute_reply": "2021-10-09T15:35:46.016705Z",
     "shell.execute_reply.started": "2021-10-09T15:35:45.323914Z"
    }
   },
   "outputs": [],
   "source": [
    "fig, ax = plt.subplots(figsize=(12, 8))\n",
    "tracking2018.query('gameId == 2018091609 and position == \"RB\"').groupby('team') \\\n",
    "    .plot(x='x', y='y', ax=ax, style='.')\n",
    "plt.legend().remove();"
   ]
  },
  {
   "cell_type": "markdown",
   "metadata": {},
   "source": [
    "## Function to create football field\n"
   ]
  },
  {
   "cell_type": "markdown",
   "metadata": {},
   "source": [
    "This function is taken from the post created by JARON_MICHAL. See the post [here](https://www.kaggle.com/jaronmichal/tracking-data-visualization)"
   ]
  },
  {
   "cell_type": "code",
   "execution_count": null,
   "metadata": {
    "_kg_hide-input": true,
    "execution": {
     "iopub.execute_input": "2021-10-09T15:35:46.019237Z",
     "iopub.status.busy": "2021-10-09T15:35:46.018931Z",
     "iopub.status.idle": "2021-10-09T15:35:46.054134Z",
     "shell.execute_reply": "2021-10-09T15:35:46.052818Z",
     "shell.execute_reply.started": "2021-10-09T15:35:46.019209Z"
    }
   },
   "outputs": [],
   "source": [
    "import matplotlib.patches as patches\n",
    "from matplotlib.patches import Arc\n",
    "from matplotlib import pyplot as plt\n",
    "import matplotlib.patches as mpatches\n",
    "\n",
    "# Change size of the figure\n",
    "plt.rcParams['figure.figsize'] = [12, 8]\n",
    "def drawPitch(width, height, color=\"w\"):\n",
    "    fig = plt.figure()\n",
    "    ax = plt.axes(xlim=(-10, width + 30), ylim=(-15, height + 5))\n",
    "    plt.axis('off')\n",
    "\n",
    "    # Grass around pitch\n",
    "    rect = patches.Rectangle((-10, -5), width + 40, height + 10, linewidth=1, facecolor='#3f995b', capstyle='round')\n",
    "    ax.add_patch(rect)\n",
    "    ###################\n",
    "\n",
    "    # Pitch boundaries\n",
    "    rect = plt.Rectangle((0, 0), width + 20, height, ec=color, fc=\"None\", lw=2)\n",
    "    ax.add_patch(rect)\n",
    "    ###################\n",
    "\n",
    "    # vertical lines - every 5 yards\n",
    "    for i in range(21):\n",
    "        plt.plot([10 + 5 * i, 10 + 5 * i], [0, height], c=\"w\", lw=2)\n",
    "    ###################\n",
    "        \n",
    "    # distance markers - every 10 yards\n",
    "    for yards in range(10, width, 10):\n",
    "        yards_text = yards if yards <= width / 2 else width - yards\n",
    "        # top markers\n",
    "        plt.text(10 + yards - 2, height - 7.5, yards_text, size=15, c=\"w\", weight=\"bold\")\n",
    "        # botoom markers\n",
    "        plt.text(10 + yards - 2, 7.5, yards_text, size=15, c=\"w\", weight=\"bold\", rotation=180)\n",
    "    ###################\n",
    "\n",
    "    # yards markers - every yard\n",
    "    # bottom markers\n",
    "    for x in range(20):\n",
    "        for j in range(1, 5):\n",
    "            plt.plot([10 + x * 5 + j, 10 + x * 5 + j], [1, 3], color=\"w\", lw=2)\n",
    "\n",
    "    # top markers\n",
    "    for x in range(20):\n",
    "        for j in range(1, 5):\n",
    "            plt.plot([10 + x * 5 + j, 10 + x * 5 + j], [height - 1, height - 3], color=\"w\", lw=2)\n",
    "\n",
    "    # middle bottom markers\n",
    "    y = (height - 18.5) / 2\n",
    "    for x in range(20):\n",
    "        for j in range(1, 5):\n",
    "            plt.plot([10 + x * 5 + j, 10 + x * 5 + j], [y, y + 2], color=\"w\", lw=2)\n",
    "\n",
    "    # middle top markers\n",
    "    for x in range(20):\n",
    "        for j in range(1, 5):\n",
    "            plt.plot([10 + x * 5 + j, 10 + x * 5 + j], [height - y, height - y - 2], color=\"w\", lw=2)\n",
    "    ###################\n",
    "\n",
    "    # draw home end zone\n",
    "    plt.text(2.5, (height - 15) / 2, \"HOME\", size=30, c=\"w\", weight=\"bold\", rotation=90)\n",
    "    rect = plt.Rectangle((0, 0), 10, height, ec=color, fc=\"#0064dc\", lw=2)\n",
    "    ax.add_patch(rect)\n",
    "\n",
    "    # draw away end zone    \n",
    "    plt.text(111, (height - 15) / 2, \"AWAY\", size=30, c=\"w\", weight=\"bold\", rotation=-90)\n",
    "    rect = plt.Rectangle((width + 10, 0), 10, height, ec=color, fc=\"#c80014\", lw=2)\n",
    "    ax.add_patch(rect)\n",
    "    ###################\n",
    "    \n",
    "    # draw extra spot point\n",
    "    # left\n",
    "    y = (height - 3) / 2\n",
    "    plt.plot([10 + 2, 10 + 2], [y, y + 3], c=\"w\", lw=2)\n",
    "    \n",
    "    # right\n",
    "    plt.plot([width + 10 - 2, width + 10 - 2], [y, y + 3], c=\"w\", lw=2)\n",
    "    ###################\n",
    "    \n",
    "    # draw goalpost\n",
    "    goal_width = 6 # yards\n",
    "    y = (height - goal_width) / 2\n",
    "    # left\n",
    "    plt.plot([0, 0], [y, y + goal_width], \"-\", c=\"y\", lw=10, ms=20)\n",
    "    # right\n",
    "    plt.plot([width + 20, width + 20], [y, y + goal_width], \"-\", c=\"y\", lw=10, ms=20)\n",
    "    \n",
    "    return fig, ax"
   ]
  },
  {
   "cell_type": "code",
   "execution_count": null,
   "metadata": {
    "execution": {
     "iopub.execute_input": "2021-10-09T15:35:46.055946Z",
     "iopub.status.busy": "2021-10-09T15:35:46.055609Z",
     "iopub.status.idle": "2021-10-09T15:35:46.683554Z",
     "shell.execute_reply": "2021-10-09T15:35:46.682557Z",
     "shell.execute_reply.started": "2021-10-09T15:35:46.055917Z"
    }
   },
   "outputs": [],
   "source": [
    " fig, ax = drawPitch(100, 53.3)"
   ]
  },
  {
   "cell_type": "markdown",
   "metadata": {},
   "source": [
    "## Function to create animation"
   ]
  },
  {
   "cell_type": "code",
   "execution_count": null,
   "metadata": {
    "execution": {
     "iopub.execute_input": "2021-10-09T15:35:46.685508Z",
     "iopub.status.busy": "2021-10-09T15:35:46.684949Z",
     "iopub.status.idle": "2021-10-09T15:35:49.068657Z",
     "shell.execute_reply": "2021-10-09T15:35:49.067006Z",
     "shell.execute_reply.started": "2021-10-09T15:35:46.685466Z"
    }
   },
   "outputs": [],
   "source": [
    "games_ids = {}\n",
    "games_tracking2018 = tracking2018.groupby(by=[\"gameId\"])\n",
    "for game, data in games_tracking2018:\n",
    "    games_ids[game] = list(set(data.playId.tolist()))"
   ]
  },
  {
   "cell_type": "code",
   "execution_count": null,
   "metadata": {
    "_kg_hide-input": true,
    "execution": {
     "iopub.execute_input": "2021-10-09T15:35:49.07076Z",
     "iopub.status.busy": "2021-10-09T15:35:49.070333Z",
     "iopub.status.idle": "2021-10-09T15:35:49.082931Z",
     "shell.execute_reply": "2021-10-09T15:35:49.082145Z",
     "shell.execute_reply.started": "2021-10-09T15:35:49.070715Z"
    }
   },
   "outputs": [],
   "source": [
    "def extract_one_game(game_id, play_id, df):\n",
    "    game = df[(df.gameId == game_id) & (df.playId == play_id)]\n",
    "    home = {}\n",
    "    away = {}\n",
    "    balls = []\n",
    "    \n",
    "    players = game.sort_values(['frameId'], ascending=True).groupby('nflId')\n",
    "    for id, dx in players:\n",
    "        jerseyNumber = int(dx.jerseyNumber.iloc[0])\n",
    "        if dx.team.iloc[0] == \"home\":\n",
    "            home[jerseyNumber] = list(zip(dx.x.tolist(), dx.y.tolist()))\n",
    "        elif dx.team.iloc[0] == \"away\":\n",
    "            away[jerseyNumber] = list(zip(dx.x.tolist(), dx.y.tolist()))\n",
    "\n",
    "\n",
    "    ball_df = game.sort_values(['frameId'], ascending=True) \n",
    "    ball_df = ball_df[ball_df.team == \"football\"]\n",
    "    balls = list(zip(ball_df.x.tolist(), ball_df.y.tolist()))\n",
    "    return home, away, balls"
   ]
  },
  {
   "cell_type": "code",
   "execution_count": null,
   "metadata": {
    "_kg_hide-input": true,
    "execution": {
     "iopub.execute_input": "2021-10-09T15:35:49.084409Z",
     "iopub.status.busy": "2021-10-09T15:35:49.084005Z",
     "iopub.status.idle": "2021-10-09T15:35:49.11254Z",
     "shell.execute_reply": "2021-10-09T15:35:49.110706Z",
     "shell.execute_reply.started": "2021-10-09T15:35:49.084378Z"
    }
   },
   "outputs": [],
   "source": [
    "from matplotlib import animation\n",
    "from IPython.display import HTML\n",
    "def animate_one_play(game_id, play_id, df):\n",
    "    fig, ax = drawPitch(100, 53.3)\n",
    "    \n",
    "    home, away, balls = extract_one_game(game_id, play_id, df)\n",
    "\n",
    "    team_left, = ax.plot([], [], 'o', markersize=20, markerfacecolor=\"r\", markeredgewidth=2, markeredgecolor=\"white\", zorder=7)\n",
    "    team_right, = ax.plot([], [], 'o', markersize=20, markerfacecolor=\"b\", markeredgewidth=2, markeredgecolor=\"white\", zorder=7)\n",
    "    ball, = ax.plot([], [], 'o', markersize=10, markerfacecolor=\"black\", markeredgewidth=2, markeredgecolor=\"white\", zorder=7)\n",
    "    drawings = [team_left, team_right, ball]\n",
    "\n",
    "    def init():\n",
    "        team_left.set_data([], [])\n",
    "        team_right.set_data([], [])\n",
    "        ball.set_data([], [])\n",
    "        return drawings\n",
    "\n",
    "    def draw_teams(i):\n",
    "        X = []\n",
    "        Y = []\n",
    "        for k, v in home.items():\n",
    "            x, y = v[i]\n",
    "            X.append(x)\n",
    "            Y.append(y)\n",
    "        team_left.set_data(X, Y)\n",
    "        \n",
    "        X = []\n",
    "        Y = []\n",
    "        for k, v in away.items():\n",
    "            x, y = v[i]\n",
    "            X.append(x)\n",
    "            Y.append(y)\n",
    "        team_right.set_data(X, Y)\n",
    "\n",
    "    def animate(i):\n",
    "        draw_teams(i)\n",
    "        \n",
    "        x, y = balls[i]\n",
    "        ball.set_data([x, y])\n",
    "        return drawings\n",
    "    \n",
    "    # !May take a while!\n",
    "    anim = animation.FuncAnimation(fig, animate, init_func=init,\n",
    "                                   frames=len(balls), interval=100, blit=True)\n",
    "\n",
    "    return HTML(anim.to_html5_video())"
   ]
  },
  {
   "cell_type": "code",
   "execution_count": null,
   "metadata": {
    "execution": {
     "iopub.execute_input": "2021-10-09T15:35:49.114317Z",
     "iopub.status.busy": "2021-10-09T15:35:49.11404Z",
     "iopub.status.idle": "2021-10-09T15:36:01.892879Z",
     "shell.execute_reply": "2021-10-09T15:36:01.892036Z",
     "shell.execute_reply.started": "2021-10-09T15:35:49.114289Z"
    }
   },
   "outputs": [],
   "source": [
    "animate_one_play(2018123000, 36, tracking2018)"
   ]
  }
 ],
 "metadata": {
  "kernelspec": {
   "display_name": "Python 3",
   "language": "python",
   "name": "python3"
  },
  "language_info": {
   "codemirror_mode": {
    "name": "ipython",
    "version": 3
   },
   "file_extension": ".py",
   "mimetype": "text/x-python",
   "name": "python",
   "nbconvert_exporter": "python",
   "pygments_lexer": "ipython3",
   "version": "3.8.3"
  }
 },
 "nbformat": 4,
 "nbformat_minor": 4
}
